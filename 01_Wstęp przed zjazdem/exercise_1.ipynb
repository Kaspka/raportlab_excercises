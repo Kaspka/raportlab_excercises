{
 "cells": [
  {
   "cell_type": "markdown",
   "id": "primary-bidding",
   "metadata": {},
   "source": [
    "# Zadanie 1\n",
    "\n",
    "To zadanie ma na celu przetestowanie, czy biblioteka `reportlab` jest zainstalowana. Jeszcze przed zajęciami upewnij się, że wszystko działa prawidłowo, w razie problemów poproś o pomoc mentora."
   ]
  },
  {
   "cell_type": "code",
   "execution_count": 1,
   "id": "27a713bb",
   "metadata": {},
   "outputs": [
    {
     "name": "stdout",
     "output_type": "stream",
     "text": [
      "Collecting reportlab\n",
      "  Using cached reportlab-3.6.12-cp39-cp39-win_amd64.whl (2.3 MB)\n",
      "Requirement already satisfied: pillow>=9.0.0 in c:\\users\\user\\anaconda3\\lib\\site-packages (from reportlab) (9.2.0)\n",
      "Installing collected packages: reportlab\n",
      "Successfully installed reportlab-3.6.12\n"
     ]
    }
   ],
   "source": [
    "!pip install reportlab"
   ]
  },
  {
   "cell_type": "code",
   "execution_count": 2,
   "id": "sustained-damage",
   "metadata": {},
   "outputs": [],
   "source": [
    "from reportlab.pdfgen import canvas\n",
    "\n",
    "c = canvas.Canvas('test.pdf')\n",
    "c.drawString(250, 500, 'Hello world!')\n",
    "c.save()"
   ]
  },
  {
   "cell_type": "code",
   "execution_count": 3,
   "id": "277ab201",
   "metadata": {},
   "outputs": [],
   "source": [
    "from reportlab.pdfgen import canvas\n",
    "from reportlab.lib.pagesizes import A2\n",
    "from reportlab.pdfbase import pdfmetrics\n",
    "from reportlab.pdfbase.ttfonts import TTFont\n",
    " \n",
    "pdfmetrics.registerFont(TTFont('TimesNewRoman', 'times.ttf'))\n",
    "width, height = A2\n",
    "c = canvas.Canvas('full_PDF.pdf', pagesize=A2)\n",
    " \n",
    "c.setFont('Helvetica', 35)\n",
    "c.drawString(50, height - 50, 'Przykładowy napis 1')\n",
    "c.setFont('TimesNewRoman', 35)\n",
    "c.drawString(150, height - 150, 'Przykładowy napis 2')\n",
    "c.showPage()\n",
    " \n",
    "c.drawString(150, height - 150, 'Przykładowy napis na nowej stronie')\n",
    "c.save()"
   ]
  },
  {
   "cell_type": "code",
   "execution_count": 6,
   "id": "396c0d10",
   "metadata": {},
   "outputs": [],
   "source": [
    "from reportlab.pdfgen import canvas\n",
    "from reportlab.lib.utils import ImageReader\n",
    " \n",
    "c = canvas.Canvas('image_example.pdf')\n",
    "logo = ImageReader('https://www.google.com/images/branding/googlelogo/2x/googlelogo_color_160x56dp.png')\n",
    " \n",
    "logo_width, logo_height = logo.getSize()\n",
    "c.drawImage(logo, 10, 10, width=logo_width / 2, height=logo_height / 2,  mask='auto')\n",
    " \n",
    "c.save()"
   ]
  },
  {
   "cell_type": "code",
   "execution_count": 7,
   "id": "743c217e",
   "metadata": {},
   "outputs": [],
   "source": [
    "from reportlab.lib.pagesizes import A2\n",
    "from reportlab.platypus import SimpleDocTemplate, Paragraph, Spacer, Image\n",
    "from reportlab.lib.styles import getSampleStyleSheet, ParagraphStyle\n",
    " \n",
    "doc = SimpleDocTemplate(\"story_example.pdf\",pagesize=A2,rightMargin=72,\n",
    "                        leftMargin=72,topMargin=72,bottomMargin=18)\n",
    "Story=[]\n",
    "logo = \"https://upload.wikimedia.org/wikipedia/commons/thumb/c/c3/Python-logo-notext.svg/600px-Python-logo-notext.svg.png\"\n",
    "styles=getSampleStyleSheet()\n",
    " \n",
    "im = Image(logo, 300, 200)\n",
    "Story.append(im)\n",
    "Story.append(Spacer(1, 20))\n",
    " \n",
    "ptext = '<font>Lorem ipsum 1....</font>'\n",
    "Story.append(Paragraph(ptext, styles[\"Title\"]))\n",
    "Story.append(Spacer(1, 12))\n",
    " \n",
    "ptext = '<font>Lorem ipsum 2....</font>'\n",
    "Story.append(Paragraph(ptext, styles[\"Normal\"]))\n",
    "Story.append(Spacer(1, 12))"
   ]
  },
  {
   "cell_type": "code",
   "execution_count": 8,
   "id": "97f3fdf1",
   "metadata": {},
   "outputs": [],
   "source": [
    "ptext = '<font>Lorem ipsum 3....</font>'\n",
    "Story.append(Paragraph(ptext, styles[\"Italic\"]))\n",
    "Story.append(Spacer(1, 12))\n",
    " \n",
    " \n",
    "ptext = '<font>Lorem ipsum 4....</font>'\n",
    "Story.append(Paragraph(ptext, styles[\"Definition\"]))\n",
    "Story.append(Spacer(1, 12))\n",
    " \n",
    " \n",
    "ptext = '<font>Lorem ipsum 5....</font>'\n",
    "Story.append(Paragraph(ptext, styles[\"Code\"]))\n",
    "Story.append(Spacer(1, 12))\n",
    " \n",
    "doc.build(Story)"
   ]
  },
  {
   "cell_type": "code",
   "execution_count": null,
   "id": "00382ac0",
   "metadata": {},
   "outputs": [],
   "source": []
  }
 ],
 "metadata": {
  "kernelspec": {
   "display_name": "Python 3 (ipykernel)",
   "language": "python",
   "name": "python3"
  },
  "language_info": {
   "codemirror_mode": {
    "name": "ipython",
    "version": 3
   },
   "file_extension": ".py",
   "mimetype": "text/x-python",
   "name": "python",
   "nbconvert_exporter": "python",
   "pygments_lexer": "ipython3",
   "version": "3.9.13"
  }
 },
 "nbformat": 4,
 "nbformat_minor": 5
}
